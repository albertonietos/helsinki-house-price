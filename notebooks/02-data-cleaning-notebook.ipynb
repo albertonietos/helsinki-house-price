{
 "cells": [
  {
   "cell_type": "markdown",
   "metadata": {
    "id": "c2d0BUkfRhIV"
   },
   "source": [
    "# Data cleaning\n",
    "In this notebook, we focus on cleaning the data set we extracted and extracting the most relevant attributes."
   ]
  },
  {
   "cell_type": "markdown",
   "metadata": {
    "id": "aCQMtssUVkHL"
   },
   "source": [
    "## Import the needed libraries"
   ]
  },
  {
   "cell_type": "code",
   "execution_count": 2,
   "metadata": {
    "id": "UxKMUBvfU4uu"
   },
   "outputs": [],
   "source": [
    "import pandas as pd\n",
    "import numpy as np\n",
    "import matplotlib.pyplot as plt\n",
    "import seaborn as sns; sns.set()\n",
    "\n",
    "# Import from local library\n",
    "from helsinkihouse.config import data_path\n",
    "\n",
    "%matplotlib inline\n",
    "%load_ext autoreload\n",
    "%autoreload 2  # reload modules before executing user code"
   ]
  },
  {
   "cell_type": "markdown",
   "metadata": {
    "id": "qsEI94BkVkjr"
   },
   "source": [
    "## Read the data"
   ]
  },
  {
   "cell_type": "code",
   "execution_count": 3,
   "metadata": {
    "colab": {
     "base_uri": "https://localhost:8080/",
     "height": 204
    },
    "id": "6VE4nY3oVDZn",
    "outputId": "6192ad28-9dd0-44c8-8235-1f15ce2734af"
   },
   "outputs": [
    {
     "data": {
      "text/html": [
       "<div>\n",
       "<style scoped>\n",
       "    .dataframe tbody tr th:only-of-type {\n",
       "        vertical-align: middle;\n",
       "    }\n",
       "\n",
       "    .dataframe tbody tr th {\n",
       "        vertical-align: top;\n",
       "    }\n",
       "\n",
       "    .dataframe thead th {\n",
       "        text-align: right;\n",
       "    }\n",
       "</style>\n",
       "<table border=\"1\" class=\"dataframe\">\n",
       "  <thead>\n",
       "    <tr style=\"text-align: right;\">\n",
       "      <th></th>\n",
       "      <th>Link</th>\n",
       "      <th>Title</th>\n",
       "      <th>Address</th>\n",
       "      <th>Price</th>\n",
       "      <th>Size</th>\n",
       "      <th>Year</th>\n",
       "    </tr>\n",
       "  </thead>\n",
       "  <tbody>\n",
       "    <tr>\n",
       "      <th>0</th>\n",
       "      <td>https://www.etuovi.com/kohde/21189890?haku=M16...</td>\n",
       "      <td>Kerrostalo | 2h + kt + s</td>\n",
       "      <td>Rosendalinrinki 3, Tammisto, Vantaa</td>\n",
       "      <td>227000</td>\n",
       "      <td>49.5</td>\n",
       "      <td>2009</td>\n",
       "    </tr>\n",
       "    <tr>\n",
       "      <th>1</th>\n",
       "      <td>https://www.etuovi.com/kohde/7971959?haku=M160...</td>\n",
       "      <td>Rivitalo | 4h + kt + s</td>\n",
       "      <td>Kanttiinitie 6 B4, Painiitty, Espoo</td>\n",
       "      <td>385900</td>\n",
       "      <td>92.0</td>\n",
       "      <td>2022</td>\n",
       "    </tr>\n",
       "    <tr>\n",
       "      <th>2</th>\n",
       "      <td>https://www.etuovi.com/kohde/21772126?haku=M16...</td>\n",
       "      <td>Kerrostalo | 3h + k</td>\n",
       "      <td>Konalantie 4, Pitäjänmäki, Helsinki</td>\n",
       "      <td>205000</td>\n",
       "      <td>66.0</td>\n",
       "      <td>1963</td>\n",
       "    </tr>\n",
       "    <tr>\n",
       "      <th>3</th>\n",
       "      <td>https://www.etuovi.com/kohde/1287367?haku=M160...</td>\n",
       "      <td>Rivitalo | 3-4h, k, kph / 2wc, khh, sauna, vh ...</td>\n",
       "      <td>Ripusuontie 64 A 2, Länsi-Pakila, Helsinki</td>\n",
       "      <td>545000</td>\n",
       "      <td>92.0</td>\n",
       "      <td>2020</td>\n",
       "    </tr>\n",
       "    <tr>\n",
       "      <th>4</th>\n",
       "      <td>https://www.etuovi.com/kohde/20553097?haku=M16...</td>\n",
       "      <td>Kerrostalo | 2h + k + kph + wc (yht.järj.muk. ...</td>\n",
       "      <td>Kievarinraitti 2, Viherlaakso, Espoo</td>\n",
       "      <td>149000</td>\n",
       "      <td>56.0</td>\n",
       "      <td>1980</td>\n",
       "    </tr>\n",
       "  </tbody>\n",
       "</table>\n",
       "</div>"
      ],
      "text/plain": [
       "                                                Link  \\\n",
       "0  https://www.etuovi.com/kohde/21189890?haku=M16...   \n",
       "1  https://www.etuovi.com/kohde/7971959?haku=M160...   \n",
       "2  https://www.etuovi.com/kohde/21772126?haku=M16...   \n",
       "3  https://www.etuovi.com/kohde/1287367?haku=M160...   \n",
       "4  https://www.etuovi.com/kohde/20553097?haku=M16...   \n",
       "\n",
       "                                               Title  \\\n",
       "0                           Kerrostalo | 2h + kt + s   \n",
       "1                             Rivitalo | 4h + kt + s   \n",
       "2                                Kerrostalo | 3h + k   \n",
       "3  Rivitalo | 3-4h, k, kph / 2wc, khh, sauna, vh ...   \n",
       "4  Kerrostalo | 2h + k + kph + wc (yht.järj.muk. ...   \n",
       "\n",
       "                                      Address   Price  Size  Year  \n",
       "0         Rosendalinrinki 3, Tammisto, Vantaa  227000  49.5  2009  \n",
       "1         Kanttiinitie 6 B4, Painiitty, Espoo  385900  92.0  2022  \n",
       "2         Konalantie 4, Pitäjänmäki, Helsinki  205000  66.0  1963  \n",
       "3  Ripusuontie 64 A 2, Länsi-Pakila, Helsinki  545000  92.0  2020  \n",
       "4        Kievarinraitti 2, Viherlaakso, Espoo  149000  56.0  1980  "
      ]
     },
     "execution_count": 3,
     "metadata": {},
     "output_type": "execute_result"
    }
   ],
   "source": [
    "housing = pd.read_excel(data_path, index_col=0)\n",
    "housing.head()"
   ]
  },
  {
   "cell_type": "code",
   "execution_count": 4,
   "metadata": {
    "colab": {
     "base_uri": "https://localhost:8080/"
    },
    "id": "vaKx0t-VVL7T",
    "outputId": "cba8ba9e-cce8-49ca-8227-341bbca2a58f"
   },
   "outputs": [
    {
     "data": {
      "text/plain": [
       "(5228, 6)"
      ]
     },
     "execution_count": 4,
     "metadata": {},
     "output_type": "execute_result"
    }
   ],
   "source": [
    "housing.shape"
   ]
  },
  {
   "cell_type": "code",
   "execution_count": null,
   "metadata": {
    "colab": {
     "base_uri": "https://localhost:8080/"
    },
    "id": "7E_lcZmkZ9SJ",
    "outputId": "e48fa351-a8c1-4dfe-e298-5f2862f01a4b"
   },
   "outputs": [
    {
     "name": "stdout",
     "output_type": "stream",
     "text": [
      "<class 'pandas.core.frame.DataFrame'>\n",
      "Int64Index: 5228 entries, 0 to 5227\n",
      "Data columns (total 7 columns):\n",
      " #   Column       Non-Null Count  Dtype  \n",
      "---  ------       --------------  -----  \n",
      " 0   Link         5228 non-null   object \n",
      " 1   Address      5228 non-null   object \n",
      " 2   Price        5228 non-null   int64  \n",
      " 3   Size         5228 non-null   float64\n",
      " 4   Year         5228 non-null   int64  \n",
      " 5   House_type   5228 non-null   object \n",
      " 6   Description  5211 non-null   object \n",
      "dtypes: float64(1), int64(2), object(4)\n",
      "memory usage: 486.8+ KB\n"
     ]
    }
   ],
   "source": [
    "housing.info()"
   ]
  },
  {
   "cell_type": "markdown",
   "metadata": {
    "id": "zPgTAKcqVQAV"
   },
   "source": [
    "## Split information in different attributes\n",
    "Note that the attributes 'Title' and 'Address' contain information that can still be subdivided in different attributes. This is what will be done in this section.\n"
   ]
  },
  {
   "cell_type": "markdown",
   "metadata": {
    "id": "OXBCH8EPp6UY"
   },
   "source": [
    "\n",
    "### Total number of rooms\n",
    "First, let's look at 'Title'."
   ]
  },
  {
   "cell_type": "code",
   "execution_count": null,
   "metadata": {
    "colab": {
     "base_uri": "https://localhost:8080/",
     "height": 35
    },
    "id": "SyE6of7vWT9x",
    "outputId": "f649caa0-bc9c-4c43-9174-9e4e8fb00624"
   },
   "outputs": [
    {
     "data": {
      "application/vnd.google.colaboratory.intrinsic+json": {
       "type": "string"
      },
      "text/plain": [
       "'Rivitalo | 3-4h, k, kph / 2wc, khh, sauna, vh 92 m2 + lämmin varasto 4 m2'"
      ]
     },
     "execution_count": 9,
     "metadata": {
      "tags": []
     },
     "output_type": "execute_result"
    }
   ],
   "source": [
    "housing.Title[3]"
   ]
  },
  {
   "cell_type": "markdown",
   "metadata": {
    "id": "VkUydgBTWfXS"
   },
   "source": [
    "As we see, the first part of the attribute refers to the type of building (e.g. Rivitalo: Terraced house). The second part refers to the layout of the house (e.g. number of rooms) and other data. From the latter attribute, we will only retain the number of rooms as the other descriptions are not present in all data points and are in different formats which makes parsing them quite challenging."
   ]
  },
  {
   "cell_type": "code",
   "execution_count": null,
   "metadata": {
    "id": "92PPFzHDXyF0"
   },
   "outputs": [],
   "source": [
    "housing[[\"House_type\", \"Description\"]] = housing.Title.str.split(\"|\", expand=True)"
   ]
  },
  {
   "cell_type": "code",
   "execution_count": null,
   "metadata": {
    "colab": {
     "base_uri": "https://localhost:8080/",
     "height": 289
    },
    "id": "cIxXGw-SYweQ",
    "outputId": "6265d82e-0bef-4741-e648-921452b83199"
   },
   "outputs": [
    {
     "data": {
      "text/html": [
       "<div>\n",
       "<style scoped>\n",
       "    .dataframe tbody tr th:only-of-type {\n",
       "        vertical-align: middle;\n",
       "    }\n",
       "\n",
       "    .dataframe tbody tr th {\n",
       "        vertical-align: top;\n",
       "    }\n",
       "\n",
       "    .dataframe thead th {\n",
       "        text-align: right;\n",
       "    }\n",
       "</style>\n",
       "<table border=\"1\" class=\"dataframe\">\n",
       "  <thead>\n",
       "    <tr style=\"text-align: right;\">\n",
       "      <th></th>\n",
       "      <th>Link</th>\n",
       "      <th>Title</th>\n",
       "      <th>Address</th>\n",
       "      <th>Price</th>\n",
       "      <th>Size</th>\n",
       "      <th>Year</th>\n",
       "      <th>House_type</th>\n",
       "      <th>Description</th>\n",
       "    </tr>\n",
       "  </thead>\n",
       "  <tbody>\n",
       "    <tr>\n",
       "      <th>0</th>\n",
       "      <td>https://www.etuovi.com/kohde/21189890?haku=M16...</td>\n",
       "      <td>Kerrostalo | 2h + kt + s</td>\n",
       "      <td>Rosendalinrinki 3, Tammisto, Vantaa</td>\n",
       "      <td>227000</td>\n",
       "      <td>49.5</td>\n",
       "      <td>2009</td>\n",
       "      <td>Kerrostalo</td>\n",
       "      <td>2h + kt + s</td>\n",
       "    </tr>\n",
       "    <tr>\n",
       "      <th>1</th>\n",
       "      <td>https://www.etuovi.com/kohde/7971959?haku=M160...</td>\n",
       "      <td>Rivitalo | 4h + kt + s</td>\n",
       "      <td>Kanttiinitie 6 B4, Painiitty, Espoo</td>\n",
       "      <td>385900</td>\n",
       "      <td>92.0</td>\n",
       "      <td>2022</td>\n",
       "      <td>Rivitalo</td>\n",
       "      <td>4h + kt + s</td>\n",
       "    </tr>\n",
       "    <tr>\n",
       "      <th>2</th>\n",
       "      <td>https://www.etuovi.com/kohde/21772126?haku=M16...</td>\n",
       "      <td>Kerrostalo | 3h + k</td>\n",
       "      <td>Konalantie 4, Pitäjänmäki, Helsinki</td>\n",
       "      <td>205000</td>\n",
       "      <td>66.0</td>\n",
       "      <td>1963</td>\n",
       "      <td>Kerrostalo</td>\n",
       "      <td>3h + k</td>\n",
       "    </tr>\n",
       "    <tr>\n",
       "      <th>3</th>\n",
       "      <td>https://www.etuovi.com/kohde/1287367?haku=M160...</td>\n",
       "      <td>Rivitalo | 3-4h, k, kph / 2wc, khh, sauna, vh ...</td>\n",
       "      <td>Ripusuontie 64 A 2, Länsi-Pakila, Helsinki</td>\n",
       "      <td>545000</td>\n",
       "      <td>92.0</td>\n",
       "      <td>2020</td>\n",
       "      <td>Rivitalo</td>\n",
       "      <td>3-4h, k, kph / 2wc, khh, sauna, vh 92 m2 + lä...</td>\n",
       "    </tr>\n",
       "    <tr>\n",
       "      <th>4</th>\n",
       "      <td>https://www.etuovi.com/kohde/20553097?haku=M16...</td>\n",
       "      <td>Kerrostalo | 2h + k + kph + wc (yht.järj.muk. ...</td>\n",
       "      <td>Kievarinraitti 2, Viherlaakso, Espoo</td>\n",
       "      <td>149000</td>\n",
       "      <td>56.0</td>\n",
       "      <td>1980</td>\n",
       "      <td>Kerrostalo</td>\n",
       "      <td>2h + k + kph + wc (yht.järj.muk. 2h + k)</td>\n",
       "    </tr>\n",
       "  </tbody>\n",
       "</table>\n",
       "</div>"
      ],
      "text/plain": [
       "                                                Link  ...                                        Description\n",
       "0  https://www.etuovi.com/kohde/21189890?haku=M16...  ...                                        2h + kt + s\n",
       "1  https://www.etuovi.com/kohde/7971959?haku=M160...  ...                                        4h + kt + s\n",
       "2  https://www.etuovi.com/kohde/21772126?haku=M16...  ...                                             3h + k\n",
       "3  https://www.etuovi.com/kohde/1287367?haku=M160...  ...   3-4h, k, kph / 2wc, khh, sauna, vh 92 m2 + lä...\n",
       "4  https://www.etuovi.com/kohde/20553097?haku=M16...  ...           2h + k + kph + wc (yht.järj.muk. 2h + k)\n",
       "\n",
       "[5 rows x 8 columns]"
      ]
     },
     "execution_count": 14,
     "metadata": {
      "tags": []
     },
     "output_type": "execute_result"
    }
   ],
   "source": [
    "housing.head()"
   ]
  },
  {
   "cell_type": "code",
   "execution_count": null,
   "metadata": {
    "colab": {
     "base_uri": "https://localhost:8080/",
     "height": 204
    },
    "id": "pZpadghpYxdh",
    "outputId": "f3e014ec-e523-4db7-f7c5-8a14f275402c"
   },
   "outputs": [
    {
     "data": {
      "text/html": [
       "<div>\n",
       "<style scoped>\n",
       "    .dataframe tbody tr th:only-of-type {\n",
       "        vertical-align: middle;\n",
       "    }\n",
       "\n",
       "    .dataframe tbody tr th {\n",
       "        vertical-align: top;\n",
       "    }\n",
       "\n",
       "    .dataframe thead th {\n",
       "        text-align: right;\n",
       "    }\n",
       "</style>\n",
       "<table border=\"1\" class=\"dataframe\">\n",
       "  <thead>\n",
       "    <tr style=\"text-align: right;\">\n",
       "      <th></th>\n",
       "      <th>Link</th>\n",
       "      <th>Address</th>\n",
       "      <th>Price</th>\n",
       "      <th>Size</th>\n",
       "      <th>Year</th>\n",
       "      <th>House_type</th>\n",
       "      <th>Description</th>\n",
       "    </tr>\n",
       "  </thead>\n",
       "  <tbody>\n",
       "    <tr>\n",
       "      <th>0</th>\n",
       "      <td>https://www.etuovi.com/kohde/21189890?haku=M16...</td>\n",
       "      <td>Rosendalinrinki 3, Tammisto, Vantaa</td>\n",
       "      <td>227000</td>\n",
       "      <td>49.5</td>\n",
       "      <td>2009</td>\n",
       "      <td>Kerrostalo</td>\n",
       "      <td>2h + kt + s</td>\n",
       "    </tr>\n",
       "    <tr>\n",
       "      <th>1</th>\n",
       "      <td>https://www.etuovi.com/kohde/7971959?haku=M160...</td>\n",
       "      <td>Kanttiinitie 6 B4, Painiitty, Espoo</td>\n",
       "      <td>385900</td>\n",
       "      <td>92.0</td>\n",
       "      <td>2022</td>\n",
       "      <td>Rivitalo</td>\n",
       "      <td>4h + kt + s</td>\n",
       "    </tr>\n",
       "    <tr>\n",
       "      <th>2</th>\n",
       "      <td>https://www.etuovi.com/kohde/21772126?haku=M16...</td>\n",
       "      <td>Konalantie 4, Pitäjänmäki, Helsinki</td>\n",
       "      <td>205000</td>\n",
       "      <td>66.0</td>\n",
       "      <td>1963</td>\n",
       "      <td>Kerrostalo</td>\n",
       "      <td>3h + k</td>\n",
       "    </tr>\n",
       "    <tr>\n",
       "      <th>3</th>\n",
       "      <td>https://www.etuovi.com/kohde/1287367?haku=M160...</td>\n",
       "      <td>Ripusuontie 64 A 2, Länsi-Pakila, Helsinki</td>\n",
       "      <td>545000</td>\n",
       "      <td>92.0</td>\n",
       "      <td>2020</td>\n",
       "      <td>Rivitalo</td>\n",
       "      <td>3-4h, k, kph / 2wc, khh, sauna, vh 92 m2 + lä...</td>\n",
       "    </tr>\n",
       "    <tr>\n",
       "      <th>4</th>\n",
       "      <td>https://www.etuovi.com/kohde/20553097?haku=M16...</td>\n",
       "      <td>Kievarinraitti 2, Viherlaakso, Espoo</td>\n",
       "      <td>149000</td>\n",
       "      <td>56.0</td>\n",
       "      <td>1980</td>\n",
       "      <td>Kerrostalo</td>\n",
       "      <td>2h + k + kph + wc (yht.järj.muk. 2h + k)</td>\n",
       "    </tr>\n",
       "  </tbody>\n",
       "</table>\n",
       "</div>"
      ],
      "text/plain": [
       "                                                Link  ...                                        Description\n",
       "0  https://www.etuovi.com/kohde/21189890?haku=M16...  ...                                        2h + kt + s\n",
       "1  https://www.etuovi.com/kohde/7971959?haku=M160...  ...                                        4h + kt + s\n",
       "2  https://www.etuovi.com/kohde/21772126?haku=M16...  ...                                             3h + k\n",
       "3  https://www.etuovi.com/kohde/1287367?haku=M160...  ...   3-4h, k, kph / 2wc, khh, sauna, vh 92 m2 + lä...\n",
       "4  https://www.etuovi.com/kohde/20553097?haku=M16...  ...           2h + k + kph + wc (yht.järj.muk. 2h + k)\n",
       "\n",
       "[5 rows x 7 columns]"
      ]
     },
     "execution_count": 16,
     "metadata": {
      "tags": []
     },
     "output_type": "execute_result"
    }
   ],
   "source": [
    "housing.drop(\"Title\", axis=1, inplace=True)\n",
    "housing.head()"
   ]
  },
  {
   "cell_type": "code",
   "execution_count": null,
   "metadata": {
    "colab": {
     "base_uri": "https://localhost:8080/"
    },
    "id": "CkNlBFMTZBG5",
    "outputId": "31a93f44-0f00-4849-c89c-1a139cab0fb5"
   },
   "outputs": [
    {
     "data": {
      "text/plain": [
       "array(['Kerrostalo ', 'Rivitalo ', 'Paritalo ', 'Luhtitalo ',\n",
       "       'Omakotitalo ', 'Paritalo', 'Erillistalo ', 'Omakotitalo',\n",
       "       'Kerrostalo', 'Puutalo-osake ', 'Rivitalo'], dtype=object)"
      ]
     },
     "execution_count": 17,
     "metadata": {
      "tags": []
     },
     "output_type": "execute_result"
    }
   ],
   "source": [
    "# Look what types of housing are present\n",
    "housing.House_type.unique()"
   ]
  },
  {
   "cell_type": "markdown",
   "metadata": {
    "id": "-E2Dh-1VZ1mT"
   },
   "source": [
    "It seems some categories have an extra space at the end which is causing them to look like 2 different categories (e.g. 'Rivitalo ' and 'Rivitalo'). Let's fix that."
   ]
  },
  {
   "cell_type": "code",
   "execution_count": null,
   "metadata": {
    "colab": {
     "base_uri": "https://localhost:8080/"
    },
    "id": "UUi93nB4Z7Ro",
    "outputId": "d31f1422-97ae-420b-f374-394be3e92018"
   },
   "outputs": [
    {
     "data": {
      "text/plain": [
       "array(['Kerrostalo', 'Rivitalo', 'Paritalo', 'Luhtitalo', 'Omakotitalo',\n",
       "       'Erillistalo', 'Puutalo-osake'], dtype=object)"
      ]
     },
     "execution_count": 21,
     "metadata": {
      "tags": []
     },
     "output_type": "execute_result"
    }
   ],
   "source": [
    "housing.House_type = housing.House_type.str.replace(' ', '')\n",
    "housing.House_type.unique()"
   ]
  },
  {
   "cell_type": "markdown",
   "metadata": {
    "id": "TeMWB9L9Z8SL"
   },
   "source": [
    "For the second part of \"Title\", we are interested in recovering the number of rooms (identified as #h). Let's try to do so now."
   ]
  },
  {
   "cell_type": "code",
   "execution_count": null,
   "metadata": {
    "colab": {
     "base_uri": "https://localhost:8080/",
     "height": 204
    },
    "id": "8FVwo7fSbMV0",
    "outputId": "5ef41232-8c5e-46ee-c3d7-805f034ff503"
   },
   "outputs": [
    {
     "data": {
      "text/html": [
       "<div>\n",
       "<style scoped>\n",
       "    .dataframe tbody tr th:only-of-type {\n",
       "        vertical-align: middle;\n",
       "    }\n",
       "\n",
       "    .dataframe tbody tr th {\n",
       "        vertical-align: top;\n",
       "    }\n",
       "\n",
       "    .dataframe thead th {\n",
       "        text-align: right;\n",
       "    }\n",
       "</style>\n",
       "<table border=\"1\" class=\"dataframe\">\n",
       "  <thead>\n",
       "    <tr style=\"text-align: right;\">\n",
       "      <th></th>\n",
       "      <th>Link</th>\n",
       "      <th>Address</th>\n",
       "      <th>Price</th>\n",
       "      <th>Size</th>\n",
       "      <th>Year</th>\n",
       "      <th>House_type</th>\n",
       "      <th>Description</th>\n",
       "      <th>Total_rooms</th>\n",
       "    </tr>\n",
       "  </thead>\n",
       "  <tbody>\n",
       "    <tr>\n",
       "      <th>0</th>\n",
       "      <td>https://www.etuovi.com/kohde/21189890?haku=M16...</td>\n",
       "      <td>Rosendalinrinki 3, Tammisto, Vantaa</td>\n",
       "      <td>227000</td>\n",
       "      <td>49.5</td>\n",
       "      <td>2009</td>\n",
       "      <td>Kerrostalo</td>\n",
       "      <td>2h + kt + s</td>\n",
       "      <td>2</td>\n",
       "    </tr>\n",
       "    <tr>\n",
       "      <th>1</th>\n",
       "      <td>https://www.etuovi.com/kohde/7971959?haku=M160...</td>\n",
       "      <td>Kanttiinitie 6 B4, Painiitty, Espoo</td>\n",
       "      <td>385900</td>\n",
       "      <td>92.0</td>\n",
       "      <td>2022</td>\n",
       "      <td>Rivitalo</td>\n",
       "      <td>4h + kt + s</td>\n",
       "      <td>4</td>\n",
       "    </tr>\n",
       "    <tr>\n",
       "      <th>2</th>\n",
       "      <td>https://www.etuovi.com/kohde/21772126?haku=M16...</td>\n",
       "      <td>Konalantie 4, Pitäjänmäki, Helsinki</td>\n",
       "      <td>205000</td>\n",
       "      <td>66.0</td>\n",
       "      <td>1963</td>\n",
       "      <td>Kerrostalo</td>\n",
       "      <td>3h + k</td>\n",
       "      <td>3</td>\n",
       "    </tr>\n",
       "    <tr>\n",
       "      <th>3</th>\n",
       "      <td>https://www.etuovi.com/kohde/1287367?haku=M160...</td>\n",
       "      <td>Ripusuontie 64 A 2, Länsi-Pakila, Helsinki</td>\n",
       "      <td>545000</td>\n",
       "      <td>92.0</td>\n",
       "      <td>2020</td>\n",
       "      <td>Rivitalo</td>\n",
       "      <td>3-4h, k, kph / 2wc, khh, sauna, vh 92 m2 + lä...</td>\n",
       "      <td>3</td>\n",
       "    </tr>\n",
       "    <tr>\n",
       "      <th>4</th>\n",
       "      <td>https://www.etuovi.com/kohde/20553097?haku=M16...</td>\n",
       "      <td>Kievarinraitti 2, Viherlaakso, Espoo</td>\n",
       "      <td>149000</td>\n",
       "      <td>56.0</td>\n",
       "      <td>1980</td>\n",
       "      <td>Kerrostalo</td>\n",
       "      <td>2h + k + kph + wc (yht.järj.muk. 2h + k)</td>\n",
       "      <td>2</td>\n",
       "    </tr>\n",
       "  </tbody>\n",
       "</table>\n",
       "</div>"
      ],
      "text/plain": [
       "                                                Link  ... Total_rooms\n",
       "0  https://www.etuovi.com/kohde/21189890?haku=M16...  ...           2\n",
       "1  https://www.etuovi.com/kohde/7971959?haku=M160...  ...           4\n",
       "2  https://www.etuovi.com/kohde/21772126?haku=M16...  ...           3\n",
       "3  https://www.etuovi.com/kohde/1287367?haku=M160...  ...           3\n",
       "4  https://www.etuovi.com/kohde/20553097?haku=M16...  ...           2\n",
       "\n",
       "[5 rows x 8 columns]"
      ]
     },
     "execution_count": 110,
     "metadata": {
      "tags": []
     },
     "output_type": "execute_result"
    }
   ],
   "source": [
    "housing[\"Total_rooms\"] = housing.Description.str.split('h|H|-|k|mh|\\(|,|x|\\+', expand=True)[0]  # the '-' is for those where two numbers are specified (e.g. '3-4')\n",
    "housing.head()"
   ]
  },
  {
   "cell_type": "code",
   "execution_count": null,
   "metadata": {
    "colab": {
     "base_uri": "https://localhost:8080/"
    },
    "id": "h9uRfAUwjj35",
    "outputId": "f734dbd3-d415-46dc-83cc-fe7472a73ea2"
   },
   "outputs": [
    {
     "data": {
      "text/plain": [
       "array([' 2', ' 4', ' 3', ' Y', ' 6', ' 1', ' 4 ', None, ' 5', ' 5 ',\n",
       "       ' 3 ', ' auto', ' 7', ' PT 3', ' 6 ', ' Ka', ' K', ' 1 ', ' 2 ',\n",
       "       ' ENNAKKOMARKKINOINNISSA', ' Ala', ' Valoisa ', ' Valoisa', ' ',\n",
       "       ' KT 2', ' 8 ', ' Loft 1', ' O', ' 9', ' KT 3', ' Kolmio ', ' I',\n",
       "       ' RT 3', ' Myymälä / lii', ' Valoisa LOFT tyylinen 1', ' 7 ',\n",
       "       ' Ylimmän ', ' Parve', ' 2 ma', ' Erillistalo 5', ' Olo', ' Put',\n",
       "       ' Kaivpuistossa ', ' Unii', ' o', ' Upeasti remontoitu ja put',\n",
       "       ' Muuttovalmis rivitalo', ' Ylin ', ' 12 ', ' Pa',\n",
       "       ' Avara ja valoisa ', ' 8', ' AK: o', ' Omalla tontilla ', ' PT',\n",
       "       ' OKT 3', ' Kt', ' Talo järvinä', ' Neljännen ', ' Nyt ra', ' ylä',\n",
       "       ' Avarapo', ' Vantaa As', ' Tupa', ' NYT ENNAKKOMARKKINOINNISSA',\n",
       "       ' Valoisa saunallinen ', ' UUSI 4', ' Uusi 3', ' Esteetön',\n",
       "       ' Enna', ' Uusia paritaloja Metsolaan', ' KT', ' autopai',\n",
       "       ' Iso o', ' Klassinen 40', ' Talo 222 / 245 m2', ' Kompa', ' Uude',\n",
       "       ' Kolmio lasitetulla parve', ' Paritalo 4', ' Länsimä',\n",
       "       ' Toimisto', ' Metsola uusi paritalo!', ' RT 5', ' RT 4', ' RT 2',\n",
       "       ' Lii', ' 10 ', ' Tilava ', ' 112 / 262 m2 5', ' Ultimate lu',\n",
       "       ' Uudis', ' Upea PT', ' 11 ', ' Päära', ' 10'], dtype=object)"
      ]
     },
     "execution_count": 111,
     "metadata": {
      "tags": []
     },
     "output_type": "execute_result"
    }
   ],
   "source": [
    "housing.Total_rooms.unique()"
   ]
  },
  {
   "cell_type": "markdown",
   "metadata": {
    "id": "lIPvxaPYdDil"
   },
   "source": [
    "As we can see not all adds follow the same convention of writing first the number of rooms (although most do). We must deal with this cases where other information is provided and not the number of rooms. We also need to deal with the cases where the "
   ]
  },
  {
   "cell_type": "code",
   "execution_count": null,
   "metadata": {
    "id": "VVerhB9Zgqip"
   },
   "outputs": [],
   "source": [
    "housing.Total_rooms = housing.Total_rooms.str.replace(r'KT|RT|PT', '')  # remove characters for type of house"
   ]
  },
  {
   "cell_type": "code",
   "execution_count": null,
   "metadata": {
    "id": "jhYkjvwNf75m"
   },
   "outputs": [],
   "source": [
    "housing.Total_rooms = housing.Total_rooms.str.replace(' ', '')  # remove empty spaces"
   ]
  },
  {
   "cell_type": "code",
   "execution_count": null,
   "metadata": {
    "id": "8RoazqBHivkY"
   },
   "outputs": [],
   "source": [
    "housing.Total_rooms = housing.Total_rooms.str.extract('(\\d+)', expand=False)"
   ]
  },
  {
   "cell_type": "code",
   "execution_count": null,
   "metadata": {
    "colab": {
     "base_uri": "https://localhost:8080/"
    },
    "id": "gLJfA_i1b0I9",
    "outputId": "7ba3622b-2d18-48ae-ba3e-fb5ce0757c0c"
   },
   "outputs": [
    {
     "data": {
      "text/plain": [
       "array(['2', '4', '3', nan, '6', '1', '5', '7', '8', '9', '12', '40',\n",
       "       '222', '10', '112', '11'], dtype=object)"
      ]
     },
     "execution_count": 115,
     "metadata": {
      "tags": []
     },
     "output_type": "execute_result"
    }
   ],
   "source": [
    "housing.Total_rooms.unique()"
   ]
  },
  {
   "cell_type": "markdown",
   "metadata": {
    "id": "sVH_vUztjoBT"
   },
   "source": [
    "Although the problem is mostly fixed some specific values are clearly wrong (e.g. 222 rooms). Let's fix this on a one-to-one basis."
   ]
  },
  {
   "cell_type": "code",
   "execution_count": null,
   "metadata": {
    "colab": {
     "base_uri": "https://localhost:8080/"
    },
    "id": "RYfrIUGIeMI9",
    "outputId": "78038c9a-eec8-4b47-f4b7-0f5747bc101f"
   },
   "outputs": [
    {
     "data": {
      "text/plain": [
       "3212    https://www.etuovi.com/kohde/20695302?haku=M16...\n",
       "Name: Link, dtype: object"
      ]
     },
     "execution_count": 108,
     "metadata": {
      "tags": []
     },
     "output_type": "execute_result"
    }
   ],
   "source": [
    "housing[housing.Total_rooms=='222'].Link"
   ]
  },
  {
   "cell_type": "code",
   "execution_count": null,
   "metadata": {
    "id": "9b5A7YKDe-H2"
   },
   "outputs": [],
   "source": [
    "housing.loc[housing.Total_rooms=='222', \"Total_rooms\"] = 6"
   ]
  },
  {
   "cell_type": "code",
   "execution_count": null,
   "metadata": {
    "colab": {
     "base_uri": "https://localhost:8080/"
    },
    "id": "Korx-rDFkq3d",
    "outputId": "9049b5e3-25be-489e-82cd-464630369897"
   },
   "outputs": [
    {
     "data": {
      "text/plain": [
       "array(['2', '4', '3', nan, '6', '1', '5', '7', '8', '9', '12', '40', 6,\n",
       "       '10', '112', '11'], dtype=object)"
      ]
     },
     "execution_count": 121,
     "metadata": {
      "tags": []
     },
     "output_type": "execute_result"
    }
   ],
   "source": [
    "housing.Total_rooms.unique()"
   ]
  },
  {
   "cell_type": "code",
   "execution_count": null,
   "metadata": {
    "colab": {
     "base_uri": "https://localhost:8080/"
    },
    "id": "aPWXny3AlDv6",
    "outputId": "cdb673e4-6664-43ca-ea61-90358887418e"
   },
   "outputs": [
    {
     "data": {
      "text/plain": [
       "3157    https://www.etuovi.com/kohde/21857207?haku=M16...\n",
       "Name: Link, dtype: object"
      ]
     },
     "execution_count": 122,
     "metadata": {
      "tags": []
     },
     "output_type": "execute_result"
    }
   ],
   "source": [
    "housing[housing.Total_rooms=='40'].Link"
   ]
  },
  {
   "cell_type": "code",
   "execution_count": null,
   "metadata": {
    "id": "_tjaTGUjlK3z"
   },
   "outputs": [],
   "source": [
    "housing.loc[housing.Total_rooms=='40', \"Total_rooms\"] = 4"
   ]
  },
  {
   "cell_type": "code",
   "execution_count": null,
   "metadata": {
    "colab": {
     "base_uri": "https://localhost:8080/"
    },
    "id": "6ajKKyNSlrHq",
    "outputId": "62208a39-e990-48ba-cfda-aec9841f7c4f"
   },
   "outputs": [
    {
     "data": {
      "text/plain": [
       "array(['2', '4', '3', nan, '6', '1', '5', '7', '8', '9', '12', 4, 6, '10',\n",
       "       '112', '11'], dtype=object)"
      ]
     },
     "execution_count": 124,
     "metadata": {
      "tags": []
     },
     "output_type": "execute_result"
    }
   ],
   "source": [
    "housing.Total_rooms.unique()"
   ]
  },
  {
   "cell_type": "code",
   "execution_count": null,
   "metadata": {
    "colab": {
     "base_uri": "https://localhost:8080/"
    },
    "id": "Tva_FHmolr0g",
    "outputId": "998e8a6d-e204-4fb2-d8df-ae1d3a885648"
   },
   "outputs": [
    {
     "data": {
      "text/plain": [
       "4048    https://www.etuovi.com/kohde/1284881?haku=M160...\n",
       "Name: Link, dtype: object"
      ]
     },
     "execution_count": 125,
     "metadata": {
      "tags": []
     },
     "output_type": "execute_result"
    }
   ],
   "source": [
    "housing[housing.Total_rooms=='112'].Link"
   ]
  },
  {
   "cell_type": "code",
   "execution_count": null,
   "metadata": {
    "id": "X2ofD-bXluOt"
   },
   "outputs": [],
   "source": [
    "housing.loc[housing.Total_rooms=='112', \"Total_rooms\"] = 5"
   ]
  },
  {
   "cell_type": "code",
   "execution_count": null,
   "metadata": {
    "colab": {
     "base_uri": "https://localhost:8080/"
    },
    "id": "NFyHuEpBl0mU",
    "outputId": "65dc771e-4fca-415c-e390-18095fa04b55"
   },
   "outputs": [
    {
     "data": {
      "text/plain": [
       "array(['2', '4', '3', nan, '6', '1', '5', '7', '8', '9', '12', 4, 6, '10',\n",
       "       5, '11'], dtype=object)"
      ]
     },
     "execution_count": 127,
     "metadata": {
      "tags": []
     },
     "output_type": "execute_result"
    }
   ],
   "source": [
    "housing.Total_rooms.unique()"
   ]
  },
  {
   "cell_type": "markdown",
   "metadata": {
    "id": "V6vxhR6rptFM"
   },
   "source": [
    "### Longitude and Latitude"
   ]
  },
  {
   "cell_type": "markdown",
   "metadata": {
    "id": "X351OvFYl1Wy"
   },
   "source": [
    "Now, we will focus on 'Address'. From this information, it would be useful to extract the longitude and latitude as it is very relevant for predicition and visualization."
   ]
  },
  {
   "cell_type": "code",
   "execution_count": null,
   "metadata": {
    "colab": {
     "base_uri": "https://localhost:8080/",
     "height": 204
    },
    "id": "2qtsr5s70Pe2",
    "outputId": "bd5d48c5-78dc-4ae5-8f80-9679f84cff8f"
   },
   "outputs": [
    {
     "data": {
      "text/html": [
       "<div>\n",
       "<style scoped>\n",
       "    .dataframe tbody tr th:only-of-type {\n",
       "        vertical-align: middle;\n",
       "    }\n",
       "\n",
       "    .dataframe tbody tr th {\n",
       "        vertical-align: top;\n",
       "    }\n",
       "\n",
       "    .dataframe thead th {\n",
       "        text-align: right;\n",
       "    }\n",
       "</style>\n",
       "<table border=\"1\" class=\"dataframe\">\n",
       "  <thead>\n",
       "    <tr style=\"text-align: right;\">\n",
       "      <th></th>\n",
       "      <th>name</th>\n",
       "    </tr>\n",
       "  </thead>\n",
       "  <tbody>\n",
       "    <tr>\n",
       "      <th>5223</th>\n",
       "      <td>Ojalehdonkuja 2 A 41, Asola, Vantaa</td>\n",
       "    </tr>\n",
       "    <tr>\n",
       "      <th>5224</th>\n",
       "      <td>Laakavuorenkuja 1 A 5, Mellunmäki, Helsinki</td>\n",
       "    </tr>\n",
       "    <tr>\n",
       "      <th>5225</th>\n",
       "      <td>Pajuniitty 9a, Lippajärvi-Järvenperä, Espoo</td>\n",
       "    </tr>\n",
       "    <tr>\n",
       "      <th>5226</th>\n",
       "      <td>Koirasaarentie 50, Kruunuvuorenranta, Helsinki</td>\n",
       "    </tr>\n",
       "    <tr>\n",
       "      <th>5227</th>\n",
       "      <td>Koirasaarentie 50, Kruunuvuorenranta, Helsinki</td>\n",
       "    </tr>\n",
       "  </tbody>\n",
       "</table>\n",
       "</div>"
      ],
      "text/plain": [
       "                                                name\n",
       "5223             Ojalehdonkuja 2 A 41, Asola, Vantaa\n",
       "5224     Laakavuorenkuja 1 A 5, Mellunmäki, Helsinki\n",
       "5225     Pajuniitty 9a, Lippajärvi-Järvenperä, Espoo\n",
       "5226  Koirasaarentie 50, Kruunuvuorenranta, Helsinki\n",
       "5227  Koirasaarentie 50, Kruunuvuorenranta, Helsinki"
      ]
     },
     "execution_count": 219,
     "metadata": {
      "tags": []
     },
     "output_type": "execute_result"
    }
   ],
   "source": [
    "temp_df = pd.DataFrame({'name': housing[\"Address\"]})\n",
    "temp_df.tail()"
   ]
  },
  {
   "cell_type": "code",
   "execution_count": null,
   "metadata": {
    "colab": {
     "base_uri": "https://localhost:8080/"
    },
    "id": "4bH2g2pi0aMQ",
    "outputId": "30ecb2c5-0864-4667-e878-a2c1a65d88bf"
   },
   "outputs": [
    {
     "name": "stderr",
     "output_type": "stream",
     "text": [
      "RateLimiter caught an error, retrying (0/2 tries). Called with (*('Karrintie 18 B 3, Puistola, Helsinki',), **{}).\n",
      "Traceback (most recent call last):\n",
      "  File \"/usr/lib/python3.6/urllib/request.py\", line 1325, in do_open\n",
      "    encode_chunked=req.has_header('Transfer-encoding'))\n",
      "  File \"/usr/lib/python3.6/http/client.py\", line 1281, in request\n",
      "    self._send_request(method, url, body, headers, encode_chunked)\n",
      "  File \"/usr/lib/python3.6/http/client.py\", line 1327, in _send_request\n",
      "    self.endheaders(body, encode_chunked=encode_chunked)\n",
      "  File \"/usr/lib/python3.6/http/client.py\", line 1276, in endheaders\n",
      "    self._send_output(message_body, encode_chunked=encode_chunked)\n",
      "  File \"/usr/lib/python3.6/http/client.py\", line 1042, in _send_output\n",
      "    self.send(msg)\n",
      "  File \"/usr/lib/python3.6/http/client.py\", line 980, in send\n",
      "    self.connect()\n",
      "  File \"/usr/lib/python3.6/http/client.py\", line 1434, in connect\n",
      "    super().connect()\n",
      "  File \"/usr/lib/python3.6/http/client.py\", line 952, in connect\n",
      "    (self.host,self.port), self.timeout, self.source_address)\n",
      "  File \"/usr/lib/python3.6/socket.py\", line 724, in create_connection\n",
      "    raise err\n",
      "  File \"/usr/lib/python3.6/socket.py\", line 713, in create_connection\n",
      "    sock.connect(sa)\n",
      "OSError: [Errno 99] Cannot assign requested address\n",
      "\n",
      "During handling of the above exception, another exception occurred:\n",
      "\n",
      "Traceback (most recent call last):\n",
      "  File \"/usr/local/lib/python3.6/dist-packages/geopy/geocoders/base.py\", line 344, in _call_geocoder\n",
      "    page = requester(req, timeout=timeout, **kwargs)\n",
      "  File \"/usr/lib/python3.6/urllib/request.py\", line 526, in open\n",
      "    response = self._open(req, data)\n",
      "  File \"/usr/lib/python3.6/urllib/request.py\", line 544, in _open\n",
      "    '_open', req)\n",
      "  File \"/usr/lib/python3.6/urllib/request.py\", line 504, in _call_chain\n",
      "    result = func(*args)\n",
      "  File \"/usr/lib/python3.6/urllib/request.py\", line 1368, in https_open\n",
      "    context=self._context, check_hostname=self._check_hostname)\n",
      "  File \"/usr/lib/python3.6/urllib/request.py\", line 1327, in do_open\n",
      "    raise URLError(err)\n",
      "urllib.error.URLError: <urlopen error [Errno 99] Cannot assign requested address>\n",
      "\n",
      "During handling of the above exception, another exception occurred:\n",
      "\n",
      "Traceback (most recent call last):\n",
      "  File \"/usr/local/lib/python3.6/dist-packages/geopy/extra/rate_limiter.py\", line 130, in __call__\n",
      "    return self.func(*args, **kwargs)\n",
      "  File \"/usr/local/lib/python3.6/dist-packages/geopy/geocoders/osm.py\", line 307, in geocode\n",
      "    self._call_geocoder(url, timeout=timeout), exactly_one\n",
      "  File \"/usr/local/lib/python3.6/dist-packages/geopy/geocoders/base.py\", line 375, in _call_geocoder\n",
      "    raise GeocoderServiceError(message)\n",
      "geopy.exc.GeocoderServiceError: [Errno 99] Cannot assign requested address\n"
     ]
    }
   ],
   "source": [
    "from geopy.geocoders import Nominatim\n",
    "geolocator = Nominatim(user_agent=\"adfgasdf\")\n",
    "\n",
    "from geopy.extra.rate_limiter import RateLimiter\n",
    "geocode = RateLimiter(geolocator.geocode, min_delay_seconds=1)\n",
    "temp_df['location'] = temp_df['name'].apply(geocode)\n",
    "temp_df['point'] = temp_df['location'].apply(lambda loc: tuple(loc.point) if loc else None)"
   ]
  },
  {
   "cell_type": "code",
   "execution_count": null,
   "metadata": {
    "id": "QC-cjQ5Y0bvb"
   },
   "outputs": [],
   "source": [
    "temp_df.to_excel(\"temp.xls\")"
   ]
  },
  {
   "cell_type": "code",
   "execution_count": null,
   "metadata": {
    "colab": {
     "base_uri": "https://localhost:8080/",
     "height": 204
    },
    "id": "OdXXLhT60byg",
    "outputId": "e5fc40c6-2d8d-49b3-b50b-47bfabab62a8"
   },
   "outputs": [
    {
     "data": {
      "text/html": [
       "<div>\n",
       "<style scoped>\n",
       "    .dataframe tbody tr th:only-of-type {\n",
       "        vertical-align: middle;\n",
       "    }\n",
       "\n",
       "    .dataframe tbody tr th {\n",
       "        vertical-align: top;\n",
       "    }\n",
       "\n",
       "    .dataframe thead th {\n",
       "        text-align: right;\n",
       "    }\n",
       "</style>\n",
       "<table border=\"1\" class=\"dataframe\">\n",
       "  <thead>\n",
       "    <tr style=\"text-align: right;\">\n",
       "      <th></th>\n",
       "      <th>name</th>\n",
       "      <th>location</th>\n",
       "      <th>point</th>\n",
       "    </tr>\n",
       "  </thead>\n",
       "  <tbody>\n",
       "    <tr>\n",
       "      <th>0</th>\n",
       "      <td>Rosendalinrinki 3, Tammisto, Vantaa</td>\n",
       "      <td>(3, Rosendalinrinki, Tammisto, Aviapoliksen su...</td>\n",
       "      <td>(60.26879805, 24.968811530301256, 0.0)</td>\n",
       "    </tr>\n",
       "    <tr>\n",
       "      <th>1</th>\n",
       "      <td>Kanttiinitie 6 B4, Painiitty, Espoo</td>\n",
       "      <td>(Kanttiinitie, Painiitty, Lintuvaara, Suur-Lep...</td>\n",
       "      <td>(60.2374468, 24.8342875, 0.0)</td>\n",
       "    </tr>\n",
       "    <tr>\n",
       "      <th>2</th>\n",
       "      <td>Konalantie 4, Pitäjänmäki, Helsinki</td>\n",
       "      <td>(4 A, Konalantie, Reimarla, Pitäjänmäki, Länti...</td>\n",
       "      <td>(60.2257237, 24.85369199706898, 0.0)</td>\n",
       "    </tr>\n",
       "    <tr>\n",
       "      <th>3</th>\n",
       "      <td>Ripusuontie 64 A 2, Länsi-Pakila, Helsinki</td>\n",
       "      <td>(Ripusuontie, Länsi-Pakila, Pakila, Pohjoinen ...</td>\n",
       "      <td>(60.2472348, 24.9454876, 0.0)</td>\n",
       "    </tr>\n",
       "    <tr>\n",
       "      <th>4</th>\n",
       "      <td>Kievarinraitti 2, Viherlaakso, Espoo</td>\n",
       "      <td>(Kievarinraitti, Viherlaakso, Suur-Leppävaara,...</td>\n",
       "      <td>(60.2291669, 24.7422853, 0.0)</td>\n",
       "    </tr>\n",
       "  </tbody>\n",
       "</table>\n",
       "</div>"
      ],
      "text/plain": [
       "                                         name  ...                                   point\n",
       "0         Rosendalinrinki 3, Tammisto, Vantaa  ...  (60.26879805, 24.968811530301256, 0.0)\n",
       "1         Kanttiinitie 6 B4, Painiitty, Espoo  ...           (60.2374468, 24.8342875, 0.0)\n",
       "2         Konalantie 4, Pitäjänmäki, Helsinki  ...    (60.2257237, 24.85369199706898, 0.0)\n",
       "3  Ripusuontie 64 A 2, Länsi-Pakila, Helsinki  ...           (60.2472348, 24.9454876, 0.0)\n",
       "4        Kievarinraitti 2, Viherlaakso, Espoo  ...           (60.2291669, 24.7422853, 0.0)\n",
       "\n",
       "[5 rows x 3 columns]"
      ]
     },
     "execution_count": 222,
     "metadata": {
      "tags": []
     },
     "output_type": "execute_result"
    }
   ],
   "source": [
    "temp_df.head()"
   ]
  },
  {
   "cell_type": "markdown",
   "metadata": {
    "id": "pIJ8WByZ0b0u"
   },
   "source": [
    "Now, let's extract latitude, longitude and altitude from 'point'."
   ]
  },
  {
   "cell_type": "code",
   "execution_count": null,
   "metadata": {
    "colab": {
     "base_uri": "https://localhost:8080/",
     "height": 204
    },
    "id": "Zs8WxCEjgsQJ",
    "outputId": "36bdd64d-c8ce-4d99-c7ac-e69d9de458a9"
   },
   "outputs": [
    {
     "data": {
      "text/html": [
       "<div>\n",
       "<style scoped>\n",
       "    .dataframe tbody tr th:only-of-type {\n",
       "        vertical-align: middle;\n",
       "    }\n",
       "\n",
       "    .dataframe tbody tr th {\n",
       "        vertical-align: top;\n",
       "    }\n",
       "\n",
       "    .dataframe thead th {\n",
       "        text-align: right;\n",
       "    }\n",
       "</style>\n",
       "<table border=\"1\" class=\"dataframe\">\n",
       "  <thead>\n",
       "    <tr style=\"text-align: right;\">\n",
       "      <th></th>\n",
       "      <th>name</th>\n",
       "      <th>location</th>\n",
       "      <th>point</th>\n",
       "      <th>Latitude</th>\n",
       "      <th>Longitude</th>\n",
       "      <th>Altitude</th>\n",
       "    </tr>\n",
       "  </thead>\n",
       "  <tbody>\n",
       "    <tr>\n",
       "      <th>0</th>\n",
       "      <td>Rosendalinrinki 3, Tammisto, Vantaa</td>\n",
       "      <td>(3, Rosendalinrinki, Tammisto, Aviapoliksen su...</td>\n",
       "      <td>(60.26879805, 24.968811530301256, 0.0)</td>\n",
       "      <td>60.268798</td>\n",
       "      <td>24.968812</td>\n",
       "      <td>0.0</td>\n",
       "    </tr>\n",
       "    <tr>\n",
       "      <th>1</th>\n",
       "      <td>Kanttiinitie 6 B4, Painiitty, Espoo</td>\n",
       "      <td>(Kanttiinitie, Painiitty, Lintuvaara, Suur-Lep...</td>\n",
       "      <td>(60.2374468, 24.8342875, 0.0)</td>\n",
       "      <td>60.237447</td>\n",
       "      <td>24.834287</td>\n",
       "      <td>0.0</td>\n",
       "    </tr>\n",
       "    <tr>\n",
       "      <th>2</th>\n",
       "      <td>Konalantie 4, Pitäjänmäki, Helsinki</td>\n",
       "      <td>(4 A, Konalantie, Reimarla, Pitäjänmäki, Länti...</td>\n",
       "      <td>(60.2257237, 24.85369199706898, 0.0)</td>\n",
       "      <td>60.225724</td>\n",
       "      <td>24.853692</td>\n",
       "      <td>0.0</td>\n",
       "    </tr>\n",
       "    <tr>\n",
       "      <th>3</th>\n",
       "      <td>Ripusuontie 64 A 2, Länsi-Pakila, Helsinki</td>\n",
       "      <td>(Ripusuontie, Länsi-Pakila, Pakila, Pohjoinen ...</td>\n",
       "      <td>(60.2472348, 24.9454876, 0.0)</td>\n",
       "      <td>60.247235</td>\n",
       "      <td>24.945488</td>\n",
       "      <td>0.0</td>\n",
       "    </tr>\n",
       "    <tr>\n",
       "      <th>4</th>\n",
       "      <td>Kievarinraitti 2, Viherlaakso, Espoo</td>\n",
       "      <td>(Kievarinraitti, Viherlaakso, Suur-Leppävaara,...</td>\n",
       "      <td>(60.2291669, 24.7422853, 0.0)</td>\n",
       "      <td>60.229167</td>\n",
       "      <td>24.742285</td>\n",
       "      <td>0.0</td>\n",
       "    </tr>\n",
       "  </tbody>\n",
       "</table>\n",
       "</div>"
      ],
      "text/plain": [
       "                                         name  ... Altitude\n",
       "0         Rosendalinrinki 3, Tammisto, Vantaa  ...      0.0\n",
       "1         Kanttiinitie 6 B4, Painiitty, Espoo  ...      0.0\n",
       "2         Konalantie 4, Pitäjänmäki, Helsinki  ...      0.0\n",
       "3  Ripusuontie 64 A 2, Länsi-Pakila, Helsinki  ...      0.0\n",
       "4        Kievarinraitti 2, Viherlaakso, Espoo  ...      0.0\n",
       "\n",
       "[5 rows x 6 columns]"
      ]
     },
     "execution_count": 226,
     "metadata": {
      "tags": []
     },
     "output_type": "execute_result"
    }
   ],
   "source": [
    "temp_df[['Latitude', 'Longitude', 'Altitude']] = pd.DataFrame(temp_df.point.tolist())\n",
    "temp_df.head()"
   ]
  },
  {
   "cell_type": "markdown",
   "metadata": {
    "id": "hGky6MqchHbZ"
   },
   "source": [
    "Let's add the useful attributes (Latitude and Longitude) back to the cleaned data frame."
   ]
  },
  {
   "cell_type": "code",
   "execution_count": null,
   "metadata": {
    "colab": {
     "base_uri": "https://localhost:8080/",
     "height": 204
    },
    "id": "3QG-X8wAhfQD",
    "outputId": "db266ea8-b5ab-4e8a-f014-3bc3796b6b86"
   },
   "outputs": [
    {
     "data": {
      "text/html": [
       "<div>\n",
       "<style scoped>\n",
       "    .dataframe tbody tr th:only-of-type {\n",
       "        vertical-align: middle;\n",
       "    }\n",
       "\n",
       "    .dataframe tbody tr th {\n",
       "        vertical-align: top;\n",
       "    }\n",
       "\n",
       "    .dataframe thead th {\n",
       "        text-align: right;\n",
       "    }\n",
       "</style>\n",
       "<table border=\"1\" class=\"dataframe\">\n",
       "  <thead>\n",
       "    <tr style=\"text-align: right;\">\n",
       "      <th></th>\n",
       "      <th>Link</th>\n",
       "      <th>Address</th>\n",
       "      <th>Price</th>\n",
       "      <th>Size</th>\n",
       "      <th>Year</th>\n",
       "      <th>House_type</th>\n",
       "      <th>Description</th>\n",
       "      <th>Total_rooms</th>\n",
       "    </tr>\n",
       "  </thead>\n",
       "  <tbody>\n",
       "    <tr>\n",
       "      <th>0</th>\n",
       "      <td>https://www.etuovi.com/kohde/21189890?haku=M16...</td>\n",
       "      <td>Rosendalinrinki 3, Tammisto, Vantaa</td>\n",
       "      <td>227000</td>\n",
       "      <td>49.5</td>\n",
       "      <td>2009</td>\n",
       "      <td>Kerrostalo</td>\n",
       "      <td>2h + kt + s</td>\n",
       "      <td>2</td>\n",
       "    </tr>\n",
       "    <tr>\n",
       "      <th>1</th>\n",
       "      <td>https://www.etuovi.com/kohde/7971959?haku=M160...</td>\n",
       "      <td>Kanttiinitie 6 B4, Painiitty, Espoo</td>\n",
       "      <td>385900</td>\n",
       "      <td>92.0</td>\n",
       "      <td>2022</td>\n",
       "      <td>Rivitalo</td>\n",
       "      <td>4h + kt + s</td>\n",
       "      <td>4</td>\n",
       "    </tr>\n",
       "    <tr>\n",
       "      <th>2</th>\n",
       "      <td>https://www.etuovi.com/kohde/21772126?haku=M16...</td>\n",
       "      <td>Konalantie 4, Pitäjänmäki, Helsinki</td>\n",
       "      <td>205000</td>\n",
       "      <td>66.0</td>\n",
       "      <td>1963</td>\n",
       "      <td>Kerrostalo</td>\n",
       "      <td>3h + k</td>\n",
       "      <td>3</td>\n",
       "    </tr>\n",
       "    <tr>\n",
       "      <th>3</th>\n",
       "      <td>https://www.etuovi.com/kohde/1287367?haku=M160...</td>\n",
       "      <td>Ripusuontie 64 A 2, Länsi-Pakila, Helsinki</td>\n",
       "      <td>545000</td>\n",
       "      <td>92.0</td>\n",
       "      <td>2020</td>\n",
       "      <td>Rivitalo</td>\n",
       "      <td>3-4h, k, kph / 2wc, khh, sauna, vh 92 m2 + lä...</td>\n",
       "      <td>3</td>\n",
       "    </tr>\n",
       "    <tr>\n",
       "      <th>4</th>\n",
       "      <td>https://www.etuovi.com/kohde/20553097?haku=M16...</td>\n",
       "      <td>Kievarinraitti 2, Viherlaakso, Espoo</td>\n",
       "      <td>149000</td>\n",
       "      <td>56.0</td>\n",
       "      <td>1980</td>\n",
       "      <td>Kerrostalo</td>\n",
       "      <td>2h + k + kph + wc (yht.järj.muk. 2h + k)</td>\n",
       "      <td>2</td>\n",
       "    </tr>\n",
       "  </tbody>\n",
       "</table>\n",
       "</div>"
      ],
      "text/plain": [
       "                                                Link  ... Total_rooms\n",
       "0  https://www.etuovi.com/kohde/21189890?haku=M16...  ...           2\n",
       "1  https://www.etuovi.com/kohde/7971959?haku=M160...  ...           4\n",
       "2  https://www.etuovi.com/kohde/21772126?haku=M16...  ...           3\n",
       "3  https://www.etuovi.com/kohde/1287367?haku=M160...  ...           3\n",
       "4  https://www.etuovi.com/kohde/20553097?haku=M16...  ...           2\n",
       "\n",
       "[5 rows x 8 columns]"
      ]
     },
     "execution_count": 227,
     "metadata": {
      "tags": []
     },
     "output_type": "execute_result"
    }
   ],
   "source": [
    "housing.head()"
   ]
  },
  {
   "cell_type": "code",
   "execution_count": null,
   "metadata": {
    "colab": {
     "base_uri": "https://localhost:8080/",
     "height": 289
    },
    "id": "VXWNqxFuhjIm",
    "outputId": "14ef919c-ea1b-4e56-f5cc-c79f26338032"
   },
   "outputs": [
    {
     "data": {
      "text/html": [
       "<div>\n",
       "<style scoped>\n",
       "    .dataframe tbody tr th:only-of-type {\n",
       "        vertical-align: middle;\n",
       "    }\n",
       "\n",
       "    .dataframe tbody tr th {\n",
       "        vertical-align: top;\n",
       "    }\n",
       "\n",
       "    .dataframe thead th {\n",
       "        text-align: right;\n",
       "    }\n",
       "</style>\n",
       "<table border=\"1\" class=\"dataframe\">\n",
       "  <thead>\n",
       "    <tr style=\"text-align: right;\">\n",
       "      <th></th>\n",
       "      <th>Link</th>\n",
       "      <th>Address</th>\n",
       "      <th>Price</th>\n",
       "      <th>Size</th>\n",
       "      <th>Year</th>\n",
       "      <th>House_type</th>\n",
       "      <th>Description</th>\n",
       "      <th>Total_rooms</th>\n",
       "      <th>Latitude</th>\n",
       "      <th>Longitude</th>\n",
       "    </tr>\n",
       "  </thead>\n",
       "  <tbody>\n",
       "    <tr>\n",
       "      <th>0</th>\n",
       "      <td>https://www.etuovi.com/kohde/21189890?haku=M16...</td>\n",
       "      <td>Rosendalinrinki 3, Tammisto, Vantaa</td>\n",
       "      <td>227000</td>\n",
       "      <td>49.5</td>\n",
       "      <td>2009</td>\n",
       "      <td>Kerrostalo</td>\n",
       "      <td>2h + kt + s</td>\n",
       "      <td>2</td>\n",
       "      <td>60.268798</td>\n",
       "      <td>24.968812</td>\n",
       "    </tr>\n",
       "    <tr>\n",
       "      <th>1</th>\n",
       "      <td>https://www.etuovi.com/kohde/7971959?haku=M160...</td>\n",
       "      <td>Kanttiinitie 6 B4, Painiitty, Espoo</td>\n",
       "      <td>385900</td>\n",
       "      <td>92.0</td>\n",
       "      <td>2022</td>\n",
       "      <td>Rivitalo</td>\n",
       "      <td>4h + kt + s</td>\n",
       "      <td>4</td>\n",
       "      <td>60.237447</td>\n",
       "      <td>24.834287</td>\n",
       "    </tr>\n",
       "    <tr>\n",
       "      <th>2</th>\n",
       "      <td>https://www.etuovi.com/kohde/21772126?haku=M16...</td>\n",
       "      <td>Konalantie 4, Pitäjänmäki, Helsinki</td>\n",
       "      <td>205000</td>\n",
       "      <td>66.0</td>\n",
       "      <td>1963</td>\n",
       "      <td>Kerrostalo</td>\n",
       "      <td>3h + k</td>\n",
       "      <td>3</td>\n",
       "      <td>60.225724</td>\n",
       "      <td>24.853692</td>\n",
       "    </tr>\n",
       "    <tr>\n",
       "      <th>3</th>\n",
       "      <td>https://www.etuovi.com/kohde/1287367?haku=M160...</td>\n",
       "      <td>Ripusuontie 64 A 2, Länsi-Pakila, Helsinki</td>\n",
       "      <td>545000</td>\n",
       "      <td>92.0</td>\n",
       "      <td>2020</td>\n",
       "      <td>Rivitalo</td>\n",
       "      <td>3-4h, k, kph / 2wc, khh, sauna, vh 92 m2 + lä...</td>\n",
       "      <td>3</td>\n",
       "      <td>60.247235</td>\n",
       "      <td>24.945488</td>\n",
       "    </tr>\n",
       "    <tr>\n",
       "      <th>4</th>\n",
       "      <td>https://www.etuovi.com/kohde/20553097?haku=M16...</td>\n",
       "      <td>Kievarinraitti 2, Viherlaakso, Espoo</td>\n",
       "      <td>149000</td>\n",
       "      <td>56.0</td>\n",
       "      <td>1980</td>\n",
       "      <td>Kerrostalo</td>\n",
       "      <td>2h + k + kph + wc (yht.järj.muk. 2h + k)</td>\n",
       "      <td>2</td>\n",
       "      <td>60.229167</td>\n",
       "      <td>24.742285</td>\n",
       "    </tr>\n",
       "  </tbody>\n",
       "</table>\n",
       "</div>"
      ],
      "text/plain": [
       "                                                Link  ...  Longitude\n",
       "0  https://www.etuovi.com/kohde/21189890?haku=M16...  ...  24.968812\n",
       "1  https://www.etuovi.com/kohde/7971959?haku=M160...  ...  24.834287\n",
       "2  https://www.etuovi.com/kohde/21772126?haku=M16...  ...  24.853692\n",
       "3  https://www.etuovi.com/kohde/1287367?haku=M160...  ...  24.945488\n",
       "4  https://www.etuovi.com/kohde/20553097?haku=M16...  ...  24.742285\n",
       "\n",
       "[5 rows x 10 columns]"
      ]
     },
     "execution_count": 228,
     "metadata": {
      "tags": []
     },
     "output_type": "execute_result"
    }
   ],
   "source": [
    "housing = pd.concat([housing, temp_df[['Latitude', 'Longitude']]], axis=1)\n",
    "housing.head()"
   ]
  },
  {
   "cell_type": "code",
   "execution_count": null,
   "metadata": {
    "colab": {
     "base_uri": "https://localhost:8080/"
    },
    "id": "nVUkt632hvC7",
    "outputId": "3d1d5a61-6d17-44a7-be19-c1411822f569"
   },
   "outputs": [
    {
     "data": {
      "text/plain": [
       "(5228, 10)"
      ]
     },
     "execution_count": 231,
     "metadata": {
      "tags": []
     },
     "output_type": "execute_result"
    }
   ],
   "source": [
    "housing.shape"
   ]
  },
  {
   "cell_type": "markdown",
   "metadata": {
    "id": "_UMu91Mhhyg-"
   },
   "source": [
    "## Export cleaned data set"
   ]
  },
  {
   "cell_type": "code",
   "execution_count": null,
   "metadata": {
    "id": "oDqca85kiKFF"
   },
   "outputs": [],
   "source": [
    "housing.to_excel(\"helsinki_house_price_cleaned.xls\")"
   ]
  }
 ],
 "metadata": {
  "colab": {
   "collapsed_sections": [],
   "name": "data-cleaning.ipynb",
   "provenance": [],
   "toc_visible": true
  },
  "kernelspec": {
   "display_name": "Python 3",
   "language": "python",
   "name": "python3"
  },
  "language_info": {
   "codemirror_mode": {
    "name": "ipython",
    "version": 3
   },
   "file_extension": ".py",
   "mimetype": "text/x-python",
   "name": "python",
   "nbconvert_exporter": "python",
   "pygments_lexer": "ipython3",
   "version": "3.8.5"
  }
 },
 "nbformat": 4,
 "nbformat_minor": 1
}
